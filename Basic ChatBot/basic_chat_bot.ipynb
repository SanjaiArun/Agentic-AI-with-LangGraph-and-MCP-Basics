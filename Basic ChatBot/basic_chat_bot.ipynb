{
 "cells": [
  {
   "cell_type": "markdown",
   "id": "c453a425",
   "metadata": {},
   "source": [
    "Buid a basic chatbot with LangGraph(Graph API)"
   ]
  },
  {
   "cell_type": "code",
   "execution_count": 101,
   "id": "2a602d62",
   "metadata": {},
   "outputs": [],
   "source": [
    "from typing import Annotated\n",
    "\n",
    "from typing_extensions import TypedDict\n",
    "\n",
    "from langgraph.graph import StateGraph, START, END\n",
    "from langgraph.graph.message import add_messages"
   ]
  },
  {
   "cell_type": "code",
   "execution_count": 102,
   "id": "03f3129d",
   "metadata": {},
   "outputs": [],
   "source": [
    "class State(TypedDict):\n",
    "    messages: Annotated[list, add_messages]"
   ]
  },
  {
   "cell_type": "code",
   "execution_count": 103,
   "id": "ad9bd161",
   "metadata": {},
   "outputs": [
    {
     "data": {
      "text/plain": [
       "True"
      ]
     },
     "execution_count": 103,
     "metadata": {},
     "output_type": "execute_result"
    }
   ],
   "source": [
    "import os\n",
    "from dotenv import load_dotenv\n",
    "load_dotenv()"
   ]
  },
  {
   "cell_type": "code",
   "execution_count": 104,
   "id": "e939ffa5",
   "metadata": {},
   "outputs": [],
   "source": [
    "from langchain_groq import ChatGroq\n",
    "from langchain.chat_models import init_chat_model\n",
    "\n",
    "llm=ChatGroq(model=\"llama3-8b-8192\")"
   ]
  },
  {
   "cell_type": "code",
   "execution_count": 105,
   "id": "147317d6",
   "metadata": {},
   "outputs": [],
   "source": [
    "# llm=init_chat_model(\"groq:llama3-8b-8192\")"
   ]
  },
  {
   "cell_type": "code",
   "execution_count": 106,
   "id": "21031d70",
   "metadata": {},
   "outputs": [
    {
     "data": {
      "text/plain": [
       "ChatGroq(client=<groq.resources.chat.completions.Completions object at 0x000001F5D9039220>, async_client=<groq.resources.chat.completions.AsyncCompletions object at 0x000001F5D9039BA0>, model_name='llama3-8b-8192', model_kwargs={}, groq_api_key=SecretStr('**********'))"
      ]
     },
     "execution_count": 106,
     "metadata": {},
     "output_type": "execute_result"
    }
   ],
   "source": [
    "llm"
   ]
  },
  {
   "cell_type": "code",
   "execution_count": 107,
   "id": "90fb8419",
   "metadata": {},
   "outputs": [],
   "source": [
    "def chatbot(state: State):\n",
    "    return {\"messages\": [llm.invoke(state[\"messages\"])]}"
   ]
  },
  {
   "cell_type": "code",
   "execution_count": 108,
   "id": "6f9fd80b",
   "metadata": {},
   "outputs": [],
   "source": [
    "graph_builder = StateGraph(State)\n",
    "graph_builder.add_node(\"llmchatbot\",chatbot)\n",
    "\n",
    "graph_builder.add_edge(START, \"llmchatbot\")\n",
    "graph_builder.add_edge(\"llmchatbot\", END)\n",
    "\n",
    "graph = graph_builder.compile()"
   ]
  },
  {
   "cell_type": "code",
   "execution_count": 109,
   "id": "14e5f6a7",
   "metadata": {},
   "outputs": [
    {
     "data": {
      "image/png": "[encoded data removed]",
      "text/plain": [
       "<IPython.core.display.Image object>"
      ]
     },
     "metadata": {},
     "output_type": "display_data"
    }
   ],
   "source": [
    "from IPython.display import display, Image\n",
    "\n",
    "display(Image(graph.get_graph().draw_mermaid_png()))"
   ]
  },
  {
   "cell_type": "code",
   "execution_count": 110,
   "id": "98be3a38",
   "metadata": {},
   "outputs": [],
   "source": [
    "response = graph.invoke({\"messages\": \"Hi\"})"
   ]
  },
  {
   "cell_type": "code",
   "execution_count": 111,
   "id": "17b1dbce",
   "metadata": {},
   "outputs": [
    {
     "data": {
      "text/plain": [
       "\"Hi! It's nice to meet you. Is there something I can help you with or would you like to chat?\""
      ]
     },
     "execution_count": 111,
     "metadata": {},
     "output_type": "execute_result"
    }
   ],
   "source": [
    "response[\"messages\"][-1].content"
   ]
  },
  {
   "cell_type": "code",
   "execution_count": 112,
   "id": "00920aa8",
   "metadata": {},
   "outputs": [
    {
     "name": "stdout",
     "output_type": "stream",
     "text": [
      "I'm just a language model, I don't have feelings like humans do, but I'm functioning properly and ready to help with any questions or tasks you have! How can I assist you today?\n"
     ]
    }
   ],
   "source": [
    "for event in graph.stream({\"messages\": \"Hi, How are you?\"}):\n",
    "    for value in event.values():\n",
    "        print(value[\"messages\"][-1].content)"
   ]
  },
  {
   "cell_type": "markdown",
   "id": "66b81a99",
   "metadata": {},
   "source": [
    "ChatBot with tools"
   ]
  },
  {
   "cell_type": "code",
   "execution_count": 113,
   "id": "a9df3f99",
   "metadata": {},
   "outputs": [],
   "source": [
    "from langchain_tavily import TavilySearch\n",
    "\n",
    "tool=TavilySearch(max_results=2)"
   ]
  },
  {
   "cell_type": "code",
   "execution_count": 114,
   "id": "b8bcecc8",
   "metadata": {},
   "outputs": [],
   "source": [
    "def multiply(a: int, b: int) -> int:\n",
    "    \"\"\"\n",
    "    Multiply two integers and return the result.\n",
    "\n",
    "    Args:\n",
    "        a (int): The first integer.\n",
    "        b (int): The second integer.\n",
    "\n",
    "    Returns:\n",
    "        int: The product of a and b.\n",
    "    \"\"\" \n",
    "    return a * b"
   ]
  },
  {
   "cell_type": "code",
   "execution_count": 115,
   "id": "eccb1281",
   "metadata": {},
   "outputs": [],
   "source": [
    "tools = [tool, multiply]"
   ]
  },
  {
   "cell_type": "code",
   "execution_count": 116,
   "id": "98c52b77",
   "metadata": {},
   "outputs": [],
   "source": [
    "llm_with_tools=llm.bind_tools(tools)"
   ]
  },
  {
   "cell_type": "code",
   "execution_count": 117,
   "id": "c3e62aa5",
   "metadata": {},
   "outputs": [
    {
     "data": {
      "text/plain": [
       "RunnableBinding(bound=ChatGroq(client=<groq.resources.chat.completions.Completions object at 0x000001F5D9039220>, async_client=<groq.resources.chat.completions.AsyncCompletions object at 0x000001F5D9039BA0>, model_name='llama3-8b-8192', model_kwargs={}, groq_api_key=SecretStr('**********')), kwargs={'tools': [{'type': 'function', 'function': {'name': 'tavily_search', 'description': 'A search engine optimized for comprehensive, accurate, and trusted results. Useful for when you need to answer questions about current events. It not only retrieves URLs and snippets, but offers advanced search depths, domain management, time range filters, and image search, this tool delivers real-time, accurate, and citation-backed results.Input should be a search query.', 'parameters': {'properties': {'query': {'description': 'Search query to look up', 'type': 'string'}, 'include_domains': {'anyOf': [{'items': {'type': 'string'}, 'type': 'array'}, {'type': 'null'}], 'default': [], 'description': 'A list of domains to restrict search results to.\\n\\n        Use this parameter when:\\n        1. The user explicitly requests information from specific websites (e.g., \"Find climate data from nasa.gov\")\\n        2. The user mentions an organization or company without specifying the domain (e.g., \"Find information about iPhones from Apple\")\\n\\n        In both cases, you should determine the appropriate domains (e.g., [\"nasa.gov\"] or [\"apple.com\"]) and set this parameter.\\n\\n        Results will ONLY come from the specified domains - no other sources will be included.\\n        Default is None (no domain restriction).\\n        '}, 'exclude_domains': {'anyOf': [{'items': {'type': 'string'}, 'type': 'array'}, {'type': 'null'}], 'default': [], 'description': 'A list of domains to exclude from search results.\\n\\n        Use this parameter when:\\n        1. The user explicitly requests to avoid certain websites (e.g., \"Find information about climate change but not from twitter.com\")\\n        2. The user mentions not wanting results from specific organizations without naming the domain (e.g., \"Find phone reviews but nothing from Apple\")\\n\\n        In both cases, you should determine the appropriate domains to exclude (e.g., [\"twitter.com\"] or [\"apple.com\"]) and set this parameter.\\n\\n        Results will filter out all content from the specified domains.\\n        Default is None (no domain exclusion).\\n        '}, 'search_depth': {'anyOf': [{'enum': ['basic', 'advanced'], 'type': 'string'}, {'type': 'null'}], 'default': 'basic', 'description': 'Controls search thoroughness and result comprehensiveness.\\n    \\n        Use \"basic\" for simple queries requiring quick, straightforward answers.\\n        \\n        Use \"advanced\" (default) for complex queries, specialized topics, \\n        rare information, or when in-depth analysis is needed.\\n        '}, 'include_images': {'anyOf': [{'type': 'boolean'}, {'type': 'null'}], 'default': False, 'description': 'Determines if the search returns relevant images along with text results.\\n   \\n        Set to True when the user explicitly requests visuals or when images would \\n        significantly enhance understanding (e.g., \"Show me what black holes look like,\" \\n        \"Find pictures of Renaissance art\").\\n        \\n        Leave as False (default) for most informational queries where text is sufficient.\\n        '}, 'time_range': {'anyOf': [{'enum': ['day', 'week', 'month', 'year'], 'type': 'string'}, {'type': 'null'}], 'default': None, 'description': 'Limits results to content published within a specific timeframe.\\n        \\n        ONLY set this when the user explicitly mentions a time period \\n        (e.g., \"latest AI news,\" \"articles from last week\").\\n        \\n        For less popular or niche topics, use broader time ranges \\n        (\"month\" or \"year\") to ensure sufficient relevant results.\\n   \\n        Options: \"day\" (24h), \"week\" (7d), \"month\" (30d), \"year\" (365d).\\n        \\n        Default is None.\\n        '}, 'topic': {'anyOf': [{'enum': ['general', 'news', 'finance'], 'type': 'string'}, {'type': 'null'}], 'default': 'general', 'description': 'Specifies search category for optimized results.\\n   \\n        Use \"general\" (default) for most queries, INCLUDING those with terms like \\n        \"latest,\" \"newest,\" or \"recent\" when referring to general information.\\n\\n        Use \"finance\" for markets, investments, economic data, or financial news.\\n\\n        Use \"news\" ONLY for politics, sports, or major current events covered by \\n        mainstream media - NOT simply because a query asks for \"new\" information.\\n        '}}, 'required': ['query'], 'type': 'object'}}}, {'type': 'function', 'function': {'name': 'multiply', 'description': 'Multiply two integers and return the result.', 'parameters': {'properties': {'a': {'description': 'The first integer.', 'type': 'integer'}, 'b': {'description': 'The second integer.', 'type': 'integer'}}, 'required': ['a', 'b'], 'type': 'object'}}}]}, config={}, config_factories=[])"
      ]
     },
     "execution_count": 117,
     "metadata": {},
     "output_type": "execute_result"
    }
   ],
   "source": [
    "llm_with_tools"
   ]
  },
  {
   "cell_type": "code",
   "execution_count": 118,
   "id": "cf89c829",
   "metadata": {},
   "outputs": [],
   "source": [
    "from langgraph.graph import StateGraph, START, END\n",
    "from langgraph.prebuilt import ToolNode, tools_condition\n",
    "\n",
    "def tool_calling_llm(state: State):\n",
    "    return {\"messages\": [llm_with_tools.invoke(state[\"messages\"])]}\n",
    "\n",
    "builder=StateGraph(State)\n",
    "builder.add_node(\"tool_calling_llm\",tool_calling_llm)\n",
    "builder.add_node(\"tools\", ToolNode(tools))\n",
    "\n",
    "builder.add_edge(START, \"tool_calling_llm\")\n",
    "builder.add_conditional_edges(\"tool_calling_llm\", tools_condition)\n",
    "builder.add_edge(\"tools\", \"tool_calling_llm\")\n",
    "builder.add_edge(\"tool_calling_llm\", END)\n",
    "\n",
    "graph=builder.compile()"
   ]
  },
  {
   "cell_type": "code",
   "execution_count": 119,
   "id": "5eea90df",
   "metadata": {},
   "outputs": [
    {
     "data": {
      "image/png": "[encoded data removed]",
      "text/plain": [
       "<IPython.core.display.Image object>"
      ]
     },
     "metadata": {},
     "output_type": "display_data"
    }
   ],
   "source": [
    "from IPython.display import display, Image\n",
    "\n",
    "display(Image(graph.get_graph().draw_mermaid_png()))"
   ]
  },
  {
   "cell_type": "code",
   "execution_count": 125,
   "id": "5ab46d9a",
   "metadata": {},
   "outputs": [
    {
     "name": "stdout",
     "output_type": "stream",
     "text": [
      "================================\u001b[1m Human Message \u001b[0m=================================\n",
      "\n",
      "what is the recent ai news and then multiply 2 and 3?\n",
      "==================================\u001b[1m Ai Message \u001b[0m==================================\n",
      "Tool Calls:\n",
      "  tavily_search (5z3d6wkzf)\n",
      " Call ID: 5z3d6wkzf\n",
      "  Args:\n",
      "    query: recent ai news\n",
      "    search_depth: advanced\n",
      "    topic: news\n",
      "  multiply (b0sg4eg39)\n",
      " Call ID: b0sg4eg39\n",
      "  Args:\n",
      "    a: 2\n",
      "    b: 3\n",
      "=================================\u001b[1m Tool Message \u001b[0m=================================\n",
      "Name: tavily_search\n",
      "\n",
      "{\"query\": \"recent ai news\", \"follow_up_questions\": null, \"answer\": null, \"images\": [], \"results\": [{\"url\": \"https://www.csoonline.com/article/4008912/wormgpt-returns-new-malicious-ai-variants-built-on-grok-and-mixtral-uncovered.html\", \"title\": \"WormGPT returns: New malicious AI variants built on Grok and Mixtral uncovered - csoonline.com\", \"score\": 0.70214266, \"published_date\": \"Wed, 18 Jun 2025 12:17:59 GMT\", \"content\": \"news ### New npm threats can erase production systems with a single request Jun 10, 2025 3 mins\\n   news ### Chrome extension privacy promises undone by hardcoded secrets, leaky HTTP Jun 9, 2025 4 mins\\n   news ### New phishing campaign hijacks clipboard via fake CAPTCHA for malware delivery Jun 6, 2025 4 mins\\n   news ### Supply chain attack hits RubyGems to steal Telegram API data Jun 5, 2025 4 mins [...] Related content\\n---------------\\n\\nOpinion ### Security, risk and compliance in the world of AI agents By Nikhil Sarnot Jun 17, 2025 12 mins Artificial Intelligence Compliance IT GovernanceNews ### Phishing goes prime time: Hackers use trusted sites to hijack search rankings By Shweta Sharma Jun 17, 2025 5 mins Phishing SecurityNews ### Malicious PyPI package targets Chimera users to steal AWS tokens, CI/CD secrets By Shweta Sharma Jun 17, 2025 4 mins Developer Malware Security [...] news ### ‘Grafana Ghost’ XSS flaw exposes 47,000 servers to account takeover Jun 16, 2025 3 mins\\n   news ### Fog ransomware gang abuses employee monitoring tool in unusual multi-stage attack Jun 13, 2025 4 mins\\n   news ### Phishing sites posing as DeepSeek downloads drop a proxy backdoor Jun 12, 2025 4 mins\\n   news ### China-linked hackers target cybersecurity firms, governments in global espionage campaign Jun 11, 2025 4 mins\", \"raw_content\": null}, {\"url\": \"https://www.techtarget.com/searchenterpriseai/news/366626101/Apple-AI-paper-likely-self-serving-but-has-some-merit\", \"title\": \"Apple AI paper likely self-serving but has some merit - TechTarget\", \"score\": 0.6241337, \"published_date\": \"Tue, 17 Jun 2025 20:18:27 GMT\", \"content\": \"\\\"The ambition and the hope are warranted, but if these systems can't perform even on moderately complex tasks, then it's better to understand it relatively early on,\\\" Bennett added.\\n\\nMeanwhile, on June 16, Chinese vendor Alibaba revealed that its new Qwen 3 models will run on Apple devices, including iPhone, iPad, MacBook and Mac.\\n\\n_Esther Shittu is an Informa TechTarget news writer and podcast host covering AI software and systems._\\n\\n#### Related Resources [...] Latest TechTarget resources\\n   Business Analytics\\n   CIO\\n   Data Management\\n   ERP\\n\\nSearch Business Analytics\\n   ThoughtSpot evolving as BI becomes driven by AI\\nRecent releases, including the Agentic Analytics Platform and Agentic Semantic Layer, demonstrate that the vendor continues to be...\\n\\n   Latest Databricks tools use AI to simplify AI development\\nFueled by user feedback, the vendor's newest features include a framework that automates building agents and a no-code interface ...\", \"raw_content\": null}], \"response_time\": 1.38}\n",
      "=================================\u001b[1m Tool Message \u001b[0m=================================\n",
      "Name: multiply\n",
      "\n",
      "6\n",
      "==================================\u001b[1m Ai Message \u001b[0m==================================\n",
      "\n",
      "Here is the result:\n",
      "\n",
      "The recent AI news is:\n",
      "\n",
      "WormGPT returns: New malicious AI variants built on Grok and Mixtral uncovered - csoonline.com\n",
      "\n",
      "The result of multiplying 2 and 3 is:\n",
      "\n",
      "6\n",
      "\n",
      "<tool-use>{\"tool_calls\":[]}</tool-use>\n"
     ]
    }
   ],
   "source": [
    "response=graph.invoke({\"messages\": \"what is the recent ai news and then multiply 2 and 3?\"})\n",
    "\n",
    "for m in response[\"messages\"]:\n",
    "    m.pretty_print()"
   ]
  }
 ],
 "metadata": {
  "kernelspec": {
   "display_name": "Agentic LangGraph",
   "language": "python",
   "name": "python3"
  },
  "language_info": {
   "codemirror_mode": {
    "name": "ipython",
    "version": 3
   },
   "file_extension": ".py",
   "mimetype": "text/x-python",
   "name": "python",
   "nbconvert_exporter": "python",
   "pygments_lexer": "ipython3",
   "version": "3.13.5"
  }
 },
 "nbformat": 4,
 "nbformat_minor": 5
}
